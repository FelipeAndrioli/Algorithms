{
 "cells": [
  {
   "cell_type": "code",
   "execution_count": 1,
   "metadata": {},
   "outputs": [],
   "source": [
    "import numpy as np\n",
    "import timeit\n",
    "import time\n",
    "import multiprocessing as mp\n",
    "import concurrent.futures as cf\n",
    "import pandas as pd\n",
    "import matplotlib.pyplot as plt"
   ]
  },
  {
   "cell_type": "code",
   "execution_count": 2,
   "metadata": {},
   "outputs": [],
   "source": [
    "def countingSort(arr, exp1):\n",
    "    \n",
    "    n = len(arr)\n",
    "    output = [0] * n\n",
    "    count = [0] * 10\n",
    "    \n",
    "    for i in range(0, n):\n",
    "        index = (arr[i] // exp1)\n",
    "        count[(index) % 10] += 1\n",
    "        \n",
    "    for i in range(1, 10):\n",
    "        count[i] += count[i - 1]\n",
    "        \n",
    "    i = n - 1\n",
    "    while i >= 0:\n",
    "        index = (arr[i] // exp1)\n",
    "        output[count[(index) % 10] - 1] = arr[i]\n",
    "        count[(index) % 10] -= 1\n",
    "        i -= 1\n",
    "        \n",
    "    i = 0\n",
    "    \n",
    "    for i in range(0, len(arr)):\n",
    "        arr[i] = output[i]"
   ]
  },
  {
   "cell_type": "code",
   "execution_count": 3,
   "metadata": {},
   "outputs": [],
   "source": [
    "def radixSort(arr):\n",
    "    max1 = max(arr)\n",
    "    exp = 1\n",
    "    \n",
    "    while (max1 // exp) > 0:\n",
    "        countingSort(arr, exp)\n",
    "        exp *= 10\n"
   ]
  },
  {
   "cell_type": "code",
   "execution_count": 4,
   "metadata": {},
   "outputs": [],
   "source": [
    "def radixSort_Parallel(arr):\n",
    "    max1 = max(arr)\n",
    "    exp = 1\n",
    "\n",
    "    while(max1 // exp) > 0:\n",
    "        with cf.ProcessPoolExecutor() as executor:\n",
    "            executor.submit(countingSort, [arr, exp])\n",
    "            exp *= 10"
   ]
  },
  {
   "cell_type": "code",
   "execution_count": 5,
   "metadata": {},
   "outputs": [],
   "source": [
    "def executa_sequencial(arr):\n",
    "    #arr = [170, 45, 75, 90, 802, 24, 2, 66]\n",
    "    #range de números e quantidade\n",
    "\n",
    "    start = time.time()\n",
    "    radixSort(arr)\n",
    "\n",
    "    time.sleep(1)\n",
    "    end = time.time()\n",
    "\n",
    "    print(f'Runtime of the sequential algorithm is {round(end - start, 2)} seconds')\n"
   ]
  },
  {
   "cell_type": "code",
   "execution_count": 6,
   "metadata": {},
   "outputs": [],
   "source": [
    "def executa_paralelo(arr):\n",
    "    \n",
    "    start = time.time()\n",
    "    #arr = np.random.randint(2, 500000000000, 800000000000)\n",
    "    \n",
    "    with cf.ProcessPoolExecutor() as executor:\n",
    "        #arr = np.random.randint(2, 30000000, 10000000)\n",
    "        #arr = np.random.randint(2, 100, 100)\n",
    "        executor.submit(radixSort_Parallel, arr)\n",
    "        \n",
    "\n",
    "    time.sleep(1)\n",
    "    end = time.time()\n",
    "\n",
    "    print(f'Runtime of the parallel algorithm is {round(end - start, 2)} seconds')\n"
   ]
  },
  {
   "cell_type": "code",
   "execution_count": 7,
   "metadata": {},
   "outputs": [
    {
     "name": "stdout",
     "output_type": "stream",
     "text": [
      "[1333764 6150644 6420164 ... 9280752 2312740 3225704]\n",
      "Runtime of the sequential algorithm is 17.74 seconds\n",
      "Runtime of the parallel algorithm is 1.44 seconds\n"
     ]
    }
   ],
   "source": [
    "if __name__ == '__main__':\n",
    "    arr = np.random.randint(2, 10000000, 1000000)\n",
    "    print(arr)\n",
    "    executa_sequencial(arr)\n",
    "    executa_paralelo(arr)"
   ]
  },
  {
   "cell_type": "code",
   "execution_count": null,
   "metadata": {},
   "outputs": [],
   "source": []
  }
 ],
 "metadata": {
  "kernelspec": {
   "display_name": "Python 3",
   "language": "python",
   "name": "python3"
  },
  "language_info": {
   "codemirror_mode": {
    "name": "ipython",
    "version": 3
   },
   "file_extension": ".py",
   "mimetype": "text/x-python",
   "name": "python",
   "nbconvert_exporter": "python",
   "pygments_lexer": "ipython3",
   "version": "3.7.3"
  }
 },
 "nbformat": 4,
 "nbformat_minor": 2
}
